{
 "cells": [
  {
   "cell_type": "code",
   "execution_count": 151,
   "id": "acd8d6b0",
   "metadata": {},
   "outputs": [],
   "source": [
    "# !pip install tensorflow"
   ]
  },
  {
   "cell_type": "code",
   "execution_count": 152,
   "id": "6863c666",
   "metadata": {},
   "outputs": [],
   "source": [
    "import pandas as pd\n",
    "import numpy as np\n",
    "import seaborn as sns\n",
    "import matplotlib.pyplot as plt\n",
    "import koreanize_matplotlib\n",
    "import tensorflow as tf"
   ]
  },
  {
   "cell_type": "code",
   "execution_count": 153,
   "id": "f068dc52",
   "metadata": {},
   "outputs": [],
   "source": [
    "train = pd.read_csv('train.csv')\n",
    "test = pd.read_csv('test.csv')\n",
    "submission = pd.read_csv('sample_submission.csv')"
   ]
  },
  {
   "cell_type": "code",
   "execution_count": 154,
   "id": "e2f8e68a",
   "metadata": {},
   "outputs": [
    {
     "data": {
      "text/html": [
       "<div>\n",
       "<style scoped>\n",
       "    .dataframe tbody tr th:only-of-type {\n",
       "        vertical-align: middle;\n",
       "    }\n",
       "\n",
       "    .dataframe tbody tr th {\n",
       "        vertical-align: top;\n",
       "    }\n",
       "\n",
       "    .dataframe thead th {\n",
       "        text-align: right;\n",
       "    }\n",
       "</style>\n",
       "<table border=\"1\" class=\"dataframe\">\n",
       "  <thead>\n",
       "    <tr style=\"text-align: right;\">\n",
       "      <th></th>\n",
       "      <th>ID</th>\n",
       "      <th>Exercise_Duration</th>\n",
       "      <th>Body_Temperature(F)</th>\n",
       "      <th>BPM</th>\n",
       "      <th>Height(Feet)</th>\n",
       "      <th>Height(Remainder_Inches)</th>\n",
       "      <th>Weight(lb)</th>\n",
       "      <th>Weight_Status</th>\n",
       "      <th>Gender</th>\n",
       "      <th>Age</th>\n",
       "      <th>Calories_Burned</th>\n",
       "    </tr>\n",
       "  </thead>\n",
       "  <tbody>\n",
       "    <tr>\n",
       "      <th>0</th>\n",
       "      <td>TRAIN_0000</td>\n",
       "      <td>26.0</td>\n",
       "      <td>105.6</td>\n",
       "      <td>107.0</td>\n",
       "      <td>5.0</td>\n",
       "      <td>9.0</td>\n",
       "      <td>154.3</td>\n",
       "      <td>Normal Weight</td>\n",
       "      <td>F</td>\n",
       "      <td>45</td>\n",
       "      <td>166.0</td>\n",
       "    </tr>\n",
       "    <tr>\n",
       "      <th>1</th>\n",
       "      <td>TRAIN_0001</td>\n",
       "      <td>7.0</td>\n",
       "      <td>103.3</td>\n",
       "      <td>88.0</td>\n",
       "      <td>6.0</td>\n",
       "      <td>6.0</td>\n",
       "      <td>224.9</td>\n",
       "      <td>Overweight</td>\n",
       "      <td>M</td>\n",
       "      <td>50</td>\n",
       "      <td>33.0</td>\n",
       "    </tr>\n",
       "    <tr>\n",
       "      <th>2</th>\n",
       "      <td>TRAIN_0002</td>\n",
       "      <td>7.0</td>\n",
       "      <td>103.3</td>\n",
       "      <td>86.0</td>\n",
       "      <td>6.0</td>\n",
       "      <td>3.0</td>\n",
       "      <td>218.3</td>\n",
       "      <td>Overweight</td>\n",
       "      <td>M</td>\n",
       "      <td>29</td>\n",
       "      <td>23.0</td>\n",
       "    </tr>\n",
       "    <tr>\n",
       "      <th>3</th>\n",
       "      <td>TRAIN_0003</td>\n",
       "      <td>17.0</td>\n",
       "      <td>104.0</td>\n",
       "      <td>99.0</td>\n",
       "      <td>5.0</td>\n",
       "      <td>6.0</td>\n",
       "      <td>147.7</td>\n",
       "      <td>Normal Weight</td>\n",
       "      <td>F</td>\n",
       "      <td>33</td>\n",
       "      <td>91.0</td>\n",
       "    </tr>\n",
       "    <tr>\n",
       "      <th>4</th>\n",
       "      <td>TRAIN_0004</td>\n",
       "      <td>9.0</td>\n",
       "      <td>102.7</td>\n",
       "      <td>88.0</td>\n",
       "      <td>5.0</td>\n",
       "      <td>10.0</td>\n",
       "      <td>169.8</td>\n",
       "      <td>Normal Weight</td>\n",
       "      <td>M</td>\n",
       "      <td>38</td>\n",
       "      <td>32.0</td>\n",
       "    </tr>\n",
       "    <tr>\n",
       "      <th>...</th>\n",
       "      <td>...</td>\n",
       "      <td>...</td>\n",
       "      <td>...</td>\n",
       "      <td>...</td>\n",
       "      <td>...</td>\n",
       "      <td>...</td>\n",
       "      <td>...</td>\n",
       "      <td>...</td>\n",
       "      <td>...</td>\n",
       "      <td>...</td>\n",
       "      <td>...</td>\n",
       "    </tr>\n",
       "    <tr>\n",
       "      <th>7495</th>\n",
       "      <td>TRAIN_7495</td>\n",
       "      <td>22.0</td>\n",
       "      <td>105.1</td>\n",
       "      <td>104.0</td>\n",
       "      <td>4.0</td>\n",
       "      <td>10.0</td>\n",
       "      <td>112.4</td>\n",
       "      <td>Normal Weight</td>\n",
       "      <td>F</td>\n",
       "      <td>75</td>\n",
       "      <td>151.0</td>\n",
       "    </tr>\n",
       "    <tr>\n",
       "      <th>7496</th>\n",
       "      <td>TRAIN_7496</td>\n",
       "      <td>20.0</td>\n",
       "      <td>105.3</td>\n",
       "      <td>104.0</td>\n",
       "      <td>5.0</td>\n",
       "      <td>8.0</td>\n",
       "      <td>147.7</td>\n",
       "      <td>Normal Weight</td>\n",
       "      <td>F</td>\n",
       "      <td>21</td>\n",
       "      <td>114.0</td>\n",
       "    </tr>\n",
       "    <tr>\n",
       "      <th>7497</th>\n",
       "      <td>TRAIN_7497</td>\n",
       "      <td>8.0</td>\n",
       "      <td>103.1</td>\n",
       "      <td>90.0</td>\n",
       "      <td>6.0</td>\n",
       "      <td>2.0</td>\n",
       "      <td>202.8</td>\n",
       "      <td>Overweight</td>\n",
       "      <td>M</td>\n",
       "      <td>57</td>\n",
       "      <td>41.0</td>\n",
       "    </tr>\n",
       "    <tr>\n",
       "      <th>7498</th>\n",
       "      <td>TRAIN_7498</td>\n",
       "      <td>12.0</td>\n",
       "      <td>104.4</td>\n",
       "      <td>97.0</td>\n",
       "      <td>5.0</td>\n",
       "      <td>9.0</td>\n",
       "      <td>167.6</td>\n",
       "      <td>Overweight</td>\n",
       "      <td>M</td>\n",
       "      <td>35</td>\n",
       "      <td>57.0</td>\n",
       "    </tr>\n",
       "    <tr>\n",
       "      <th>7499</th>\n",
       "      <td>TRAIN_7499</td>\n",
       "      <td>16.0</td>\n",
       "      <td>104.9</td>\n",
       "      <td>91.0</td>\n",
       "      <td>5.0</td>\n",
       "      <td>12.0</td>\n",
       "      <td>189.6</td>\n",
       "      <td>Overweight</td>\n",
       "      <td>M</td>\n",
       "      <td>26</td>\n",
       "      <td>59.0</td>\n",
       "    </tr>\n",
       "  </tbody>\n",
       "</table>\n",
       "<p>7500 rows × 11 columns</p>\n",
       "</div>"
      ],
      "text/plain": [
       "              ID  Exercise_Duration  Body_Temperature(F)    BPM  Height(Feet)  \\\n",
       "0     TRAIN_0000               26.0                105.6  107.0           5.0   \n",
       "1     TRAIN_0001                7.0                103.3   88.0           6.0   \n",
       "2     TRAIN_0002                7.0                103.3   86.0           6.0   \n",
       "3     TRAIN_0003               17.0                104.0   99.0           5.0   \n",
       "4     TRAIN_0004                9.0                102.7   88.0           5.0   \n",
       "...          ...                ...                  ...    ...           ...   \n",
       "7495  TRAIN_7495               22.0                105.1  104.0           4.0   \n",
       "7496  TRAIN_7496               20.0                105.3  104.0           5.0   \n",
       "7497  TRAIN_7497                8.0                103.1   90.0           6.0   \n",
       "7498  TRAIN_7498               12.0                104.4   97.0           5.0   \n",
       "7499  TRAIN_7499               16.0                104.9   91.0           5.0   \n",
       "\n",
       "      Height(Remainder_Inches)  Weight(lb)  Weight_Status Gender  Age  \\\n",
       "0                          9.0       154.3  Normal Weight      F   45   \n",
       "1                          6.0       224.9     Overweight      M   50   \n",
       "2                          3.0       218.3     Overweight      M   29   \n",
       "3                          6.0       147.7  Normal Weight      F   33   \n",
       "4                         10.0       169.8  Normal Weight      M   38   \n",
       "...                        ...         ...            ...    ...  ...   \n",
       "7495                      10.0       112.4  Normal Weight      F   75   \n",
       "7496                       8.0       147.7  Normal Weight      F   21   \n",
       "7497                       2.0       202.8     Overweight      M   57   \n",
       "7498                       9.0       167.6     Overweight      M   35   \n",
       "7499                      12.0       189.6     Overweight      M   26   \n",
       "\n",
       "      Calories_Burned  \n",
       "0               166.0  \n",
       "1                33.0  \n",
       "2                23.0  \n",
       "3                91.0  \n",
       "4                32.0  \n",
       "...               ...  \n",
       "7495            151.0  \n",
       "7496            114.0  \n",
       "7497             41.0  \n",
       "7498             57.0  \n",
       "7499             59.0  \n",
       "\n",
       "[7500 rows x 11 columns]"
      ]
     },
     "execution_count": 154,
     "metadata": {},
     "output_type": "execute_result"
    }
   ],
   "source": [
    "train"
   ]
  },
  {
   "cell_type": "code",
   "execution_count": 155,
   "id": "5b9546aa",
   "metadata": {},
   "outputs": [],
   "source": [
    "train['Height(Cm)'] = (train['Height(Feet)']*30.48) + (train['Height(Remainder_Inches)']*2.54)\n",
    "train['Weight(Kg)'] = round(train['Weight(lb)']*0.453592 , 2)\n",
    "# train['BMI'] = round(train['Weight(Kg)'] / (round(train['Height(Cm)'] *0.01,2)**2),2)"
   ]
  },
  {
   "cell_type": "code",
   "execution_count": 156,
   "id": "365a0121",
   "metadata": {},
   "outputs": [],
   "source": [
    "성별 = [train[\"Gender\"].str.contains(\"M\")]\n",
    "choicelist1 = ['1']\n",
    "train['Gender'] = np.select(성별, choicelist1, default='0')\n",
    "train['Gender'] = train['Gender'].astype(int)"
   ]
  },
  {
   "cell_type": "code",
   "execution_count": 157,
   "id": "adb9f6e5",
   "metadata": {},
   "outputs": [],
   "source": [
    "test['Height(Cm)'] = (test['Height(Feet)']*30.48) + (test['Height(Remainder_Inches)']*2.54)\n",
    "test['Weight(Kg)'] = round(test['Weight(lb)']*0.453592 , 2)\n",
    "# test['BMI'] = round(test['Weight(Kg)'] / (round(test['Height(Cm)'] *0.01,2)**2),2)"
   ]
  },
  {
   "cell_type": "code",
   "execution_count": 158,
   "id": "3ed91348",
   "metadata": {},
   "outputs": [],
   "source": [
    "성별 = [test[\"Gender\"].str.contains(\"M\")]\n",
    "choicelist1 = ['1']\n",
    "test['Gender'] = np.select(성별, choicelist1, default='0')\n",
    "test['Gender'] = test['Gender'].astype(int)"
   ]
  },
  {
   "cell_type": "code",
   "execution_count": 159,
   "id": "544af59c",
   "metadata": {
    "scrolled": false
   },
   "outputs": [
    {
     "data": {
      "text/html": [
       "<div>\n",
       "<style scoped>\n",
       "    .dataframe tbody tr th:only-of-type {\n",
       "        vertical-align: middle;\n",
       "    }\n",
       "\n",
       "    .dataframe tbody tr th {\n",
       "        vertical-align: top;\n",
       "    }\n",
       "\n",
       "    .dataframe thead th {\n",
       "        text-align: right;\n",
       "    }\n",
       "</style>\n",
       "<table border=\"1\" class=\"dataframe\">\n",
       "  <thead>\n",
       "    <tr style=\"text-align: right;\">\n",
       "      <th></th>\n",
       "      <th>Exercise_Duration</th>\n",
       "      <th>Body_Temperature(F)</th>\n",
       "      <th>BPM</th>\n",
       "      <th>Gender</th>\n",
       "      <th>Age</th>\n",
       "      <th>Height(Cm)</th>\n",
       "      <th>Weight(Kg)</th>\n",
       "      <th>Calories_Burned</th>\n",
       "    </tr>\n",
       "  </thead>\n",
       "  <tbody>\n",
       "    <tr>\n",
       "      <th>0</th>\n",
       "      <td>26.0</td>\n",
       "      <td>105.6</td>\n",
       "      <td>107.0</td>\n",
       "      <td>0</td>\n",
       "      <td>45</td>\n",
       "      <td>175.26</td>\n",
       "      <td>69.99</td>\n",
       "      <td>166.0</td>\n",
       "    </tr>\n",
       "    <tr>\n",
       "      <th>1</th>\n",
       "      <td>7.0</td>\n",
       "      <td>103.3</td>\n",
       "      <td>88.0</td>\n",
       "      <td>1</td>\n",
       "      <td>50</td>\n",
       "      <td>198.12</td>\n",
       "      <td>102.01</td>\n",
       "      <td>33.0</td>\n",
       "    </tr>\n",
       "    <tr>\n",
       "      <th>2</th>\n",
       "      <td>7.0</td>\n",
       "      <td>103.3</td>\n",
       "      <td>86.0</td>\n",
       "      <td>1</td>\n",
       "      <td>29</td>\n",
       "      <td>190.50</td>\n",
       "      <td>99.02</td>\n",
       "      <td>23.0</td>\n",
       "    </tr>\n",
       "    <tr>\n",
       "      <th>3</th>\n",
       "      <td>17.0</td>\n",
       "      <td>104.0</td>\n",
       "      <td>99.0</td>\n",
       "      <td>0</td>\n",
       "      <td>33</td>\n",
       "      <td>167.64</td>\n",
       "      <td>67.00</td>\n",
       "      <td>91.0</td>\n",
       "    </tr>\n",
       "    <tr>\n",
       "      <th>4</th>\n",
       "      <td>9.0</td>\n",
       "      <td>102.7</td>\n",
       "      <td>88.0</td>\n",
       "      <td>1</td>\n",
       "      <td>38</td>\n",
       "      <td>177.80</td>\n",
       "      <td>77.02</td>\n",
       "      <td>32.0</td>\n",
       "    </tr>\n",
       "    <tr>\n",
       "      <th>...</th>\n",
       "      <td>...</td>\n",
       "      <td>...</td>\n",
       "      <td>...</td>\n",
       "      <td>...</td>\n",
       "      <td>...</td>\n",
       "      <td>...</td>\n",
       "      <td>...</td>\n",
       "      <td>...</td>\n",
       "    </tr>\n",
       "    <tr>\n",
       "      <th>7495</th>\n",
       "      <td>22.0</td>\n",
       "      <td>105.1</td>\n",
       "      <td>104.0</td>\n",
       "      <td>0</td>\n",
       "      <td>75</td>\n",
       "      <td>147.32</td>\n",
       "      <td>50.98</td>\n",
       "      <td>151.0</td>\n",
       "    </tr>\n",
       "    <tr>\n",
       "      <th>7496</th>\n",
       "      <td>20.0</td>\n",
       "      <td>105.3</td>\n",
       "      <td>104.0</td>\n",
       "      <td>0</td>\n",
       "      <td>21</td>\n",
       "      <td>172.72</td>\n",
       "      <td>67.00</td>\n",
       "      <td>114.0</td>\n",
       "    </tr>\n",
       "    <tr>\n",
       "      <th>7497</th>\n",
       "      <td>8.0</td>\n",
       "      <td>103.1</td>\n",
       "      <td>90.0</td>\n",
       "      <td>1</td>\n",
       "      <td>57</td>\n",
       "      <td>187.96</td>\n",
       "      <td>91.99</td>\n",
       "      <td>41.0</td>\n",
       "    </tr>\n",
       "    <tr>\n",
       "      <th>7498</th>\n",
       "      <td>12.0</td>\n",
       "      <td>104.4</td>\n",
       "      <td>97.0</td>\n",
       "      <td>1</td>\n",
       "      <td>35</td>\n",
       "      <td>175.26</td>\n",
       "      <td>76.02</td>\n",
       "      <td>57.0</td>\n",
       "    </tr>\n",
       "    <tr>\n",
       "      <th>7499</th>\n",
       "      <td>16.0</td>\n",
       "      <td>104.9</td>\n",
       "      <td>91.0</td>\n",
       "      <td>1</td>\n",
       "      <td>26</td>\n",
       "      <td>182.88</td>\n",
       "      <td>86.00</td>\n",
       "      <td>59.0</td>\n",
       "    </tr>\n",
       "  </tbody>\n",
       "</table>\n",
       "<p>7500 rows × 8 columns</p>\n",
       "</div>"
      ],
      "text/plain": [
       "      Exercise_Duration  Body_Temperature(F)    BPM  Gender  Age  Height(Cm)  \\\n",
       "0                  26.0                105.6  107.0       0   45      175.26   \n",
       "1                   7.0                103.3   88.0       1   50      198.12   \n",
       "2                   7.0                103.3   86.0       1   29      190.50   \n",
       "3                  17.0                104.0   99.0       0   33      167.64   \n",
       "4                   9.0                102.7   88.0       1   38      177.80   \n",
       "...                 ...                  ...    ...     ...  ...         ...   \n",
       "7495               22.0                105.1  104.0       0   75      147.32   \n",
       "7496               20.0                105.3  104.0       0   21      172.72   \n",
       "7497                8.0                103.1   90.0       1   57      187.96   \n",
       "7498               12.0                104.4   97.0       1   35      175.26   \n",
       "7499               16.0                104.9   91.0       1   26      182.88   \n",
       "\n",
       "      Weight(Kg)  Calories_Burned  \n",
       "0          69.99            166.0  \n",
       "1         102.01             33.0  \n",
       "2          99.02             23.0  \n",
       "3          67.00             91.0  \n",
       "4          77.02             32.0  \n",
       "...          ...              ...  \n",
       "7495       50.98            151.0  \n",
       "7496       67.00            114.0  \n",
       "7497       91.99             41.0  \n",
       "7498       76.02             57.0  \n",
       "7499       86.00             59.0  \n",
       "\n",
       "[7500 rows x 8 columns]"
      ]
     },
     "execution_count": 159,
     "metadata": {},
     "output_type": "execute_result"
    }
   ],
   "source": [
    "train = train[['Exercise_Duration', 'Body_Temperature(F)', 'BPM', 'Gender', 'Age','Height(Cm)', 'Weight(Kg)', 'Calories_Burned']]\n",
    "train"
   ]
  },
  {
   "cell_type": "code",
   "execution_count": 160,
   "id": "2eb4fe7d",
   "metadata": {},
   "outputs": [
    {
     "data": {
      "text/html": [
       "<div>\n",
       "<style scoped>\n",
       "    .dataframe tbody tr th:only-of-type {\n",
       "        vertical-align: middle;\n",
       "    }\n",
       "\n",
       "    .dataframe tbody tr th {\n",
       "        vertical-align: top;\n",
       "    }\n",
       "\n",
       "    .dataframe thead th {\n",
       "        text-align: right;\n",
       "    }\n",
       "</style>\n",
       "<table border=\"1\" class=\"dataframe\">\n",
       "  <thead>\n",
       "    <tr style=\"text-align: right;\">\n",
       "      <th></th>\n",
       "      <th>Exercise_Duration</th>\n",
       "      <th>Body_Temperature(F)</th>\n",
       "      <th>BPM</th>\n",
       "      <th>Gender</th>\n",
       "      <th>Age</th>\n",
       "      <th>Height(Cm)</th>\n",
       "      <th>Weight(Kg)</th>\n",
       "    </tr>\n",
       "  </thead>\n",
       "  <tbody>\n",
       "    <tr>\n",
       "      <th>0</th>\n",
       "      <td>26.0</td>\n",
       "      <td>105.1</td>\n",
       "      <td>107.0</td>\n",
       "      <td>0</td>\n",
       "      <td>45</td>\n",
       "      <td>154.94</td>\n",
       "      <td>51.98</td>\n",
       "    </tr>\n",
       "    <tr>\n",
       "      <th>1</th>\n",
       "      <td>29.0</td>\n",
       "      <td>104.9</td>\n",
       "      <td>111.0</td>\n",
       "      <td>1</td>\n",
       "      <td>21</td>\n",
       "      <td>187.96</td>\n",
       "      <td>89.99</td>\n",
       "    </tr>\n",
       "    <tr>\n",
       "      <th>2</th>\n",
       "      <td>11.0</td>\n",
       "      <td>104.0</td>\n",
       "      <td>90.0</td>\n",
       "      <td>1</td>\n",
       "      <td>58</td>\n",
       "      <td>175.26</td>\n",
       "      <td>77.02</td>\n",
       "    </tr>\n",
       "    <tr>\n",
       "      <th>3</th>\n",
       "      <td>24.0</td>\n",
       "      <td>105.4</td>\n",
       "      <td>108.0</td>\n",
       "      <td>1</td>\n",
       "      <td>35</td>\n",
       "      <td>182.88</td>\n",
       "      <td>88.99</td>\n",
       "    </tr>\n",
       "    <tr>\n",
       "      <th>4</th>\n",
       "      <td>29.0</td>\n",
       "      <td>106.0</td>\n",
       "      <td>116.0</td>\n",
       "      <td>0</td>\n",
       "      <td>67</td>\n",
       "      <td>170.18</td>\n",
       "      <td>67.00</td>\n",
       "    </tr>\n",
       "    <tr>\n",
       "      <th>...</th>\n",
       "      <td>...</td>\n",
       "      <td>...</td>\n",
       "      <td>...</td>\n",
       "      <td>...</td>\n",
       "      <td>...</td>\n",
       "      <td>...</td>\n",
       "      <td>...</td>\n",
       "    </tr>\n",
       "    <tr>\n",
       "      <th>7495</th>\n",
       "      <td>28.0</td>\n",
       "      <td>105.6</td>\n",
       "      <td>106.0</td>\n",
       "      <td>1</td>\n",
       "      <td>51</td>\n",
       "      <td>182.88</td>\n",
       "      <td>81.01</td>\n",
       "    </tr>\n",
       "    <tr>\n",
       "      <th>7496</th>\n",
       "      <td>4.0</td>\n",
       "      <td>102.0</td>\n",
       "      <td>84.0</td>\n",
       "      <td>1</td>\n",
       "      <td>25</td>\n",
       "      <td>177.80</td>\n",
       "      <td>83.01</td>\n",
       "    </tr>\n",
       "    <tr>\n",
       "      <th>7497</th>\n",
       "      <td>24.0</td>\n",
       "      <td>105.1</td>\n",
       "      <td>97.0</td>\n",
       "      <td>0</td>\n",
       "      <td>42</td>\n",
       "      <td>157.48</td>\n",
       "      <td>59.01</td>\n",
       "    </tr>\n",
       "    <tr>\n",
       "      <th>7498</th>\n",
       "      <td>8.0</td>\n",
       "      <td>103.1</td>\n",
       "      <td>83.0</td>\n",
       "      <td>0</td>\n",
       "      <td>48</td>\n",
       "      <td>165.10</td>\n",
       "      <td>61.01</td>\n",
       "    </tr>\n",
       "    <tr>\n",
       "      <th>7499</th>\n",
       "      <td>29.0</td>\n",
       "      <td>105.6</td>\n",
       "      <td>107.0</td>\n",
       "      <td>0</td>\n",
       "      <td>44</td>\n",
       "      <td>154.94</td>\n",
       "      <td>55.02</td>\n",
       "    </tr>\n",
       "  </tbody>\n",
       "</table>\n",
       "<p>7500 rows × 7 columns</p>\n",
       "</div>"
      ],
      "text/plain": [
       "      Exercise_Duration  Body_Temperature(F)    BPM  Gender  Age  Height(Cm)  \\\n",
       "0                  26.0                105.1  107.0       0   45      154.94   \n",
       "1                  29.0                104.9  111.0       1   21      187.96   \n",
       "2                  11.0                104.0   90.0       1   58      175.26   \n",
       "3                  24.0                105.4  108.0       1   35      182.88   \n",
       "4                  29.0                106.0  116.0       0   67      170.18   \n",
       "...                 ...                  ...    ...     ...  ...         ...   \n",
       "7495               28.0                105.6  106.0       1   51      182.88   \n",
       "7496                4.0                102.0   84.0       1   25      177.80   \n",
       "7497               24.0                105.1   97.0       0   42      157.48   \n",
       "7498                8.0                103.1   83.0       0   48      165.10   \n",
       "7499               29.0                105.6  107.0       0   44      154.94   \n",
       "\n",
       "      Weight(Kg)  \n",
       "0          51.98  \n",
       "1          89.99  \n",
       "2          77.02  \n",
       "3          88.99  \n",
       "4          67.00  \n",
       "...          ...  \n",
       "7495       81.01  \n",
       "7496       83.01  \n",
       "7497       59.01  \n",
       "7498       61.01  \n",
       "7499       55.02  \n",
       "\n",
       "[7500 rows x 7 columns]"
      ]
     },
     "execution_count": 160,
     "metadata": {},
     "output_type": "execute_result"
    }
   ],
   "source": [
    "test = test[['Exercise_Duration', 'Body_Temperature(F)', 'BPM', 'Gender', 'Age','Height(Cm)', 'Weight(Kg)']]\n",
    "test"
   ]
  },
  {
   "cell_type": "markdown",
   "id": "d7591444",
   "metadata": {},
   "source": [
    "# 딥러닝"
   ]
  },
  {
   "cell_type": "code",
   "execution_count": 161,
   "id": "a9dc8eae",
   "metadata": {},
   "outputs": [
    {
     "data": {
      "text/plain": [
       "'Calories_Burned'"
      ]
     },
     "execution_count": 161,
     "metadata": {},
     "output_type": "execute_result"
    }
   ],
   "source": [
    "label = \"Calories_Burned\"\n",
    "label"
   ]
  },
  {
   "cell_type": "code",
   "execution_count": 162,
   "id": "2a834263",
   "metadata": {},
   "outputs": [
    {
     "data": {
      "text/plain": [
       "((6000, 7), (1500, 7), (6000,), (1500,))"
      ]
     },
     "execution_count": 162,
     "metadata": {},
     "output_type": "execute_result"
    }
   ],
   "source": [
    "X_train = train.drop(columns=label).sample(frac=0.8, random_state=24)\n",
    "X_test = train.drop(columns=label).drop(index=X_train.index)\n",
    "y_train = train[label].loc[X_train.index]\n",
    "y_test = train[label].loc[X_test.index]\n",
    "\n",
    "X_train.shape, X_test.shape, y_train.shape, y_test.shape"
   ]
  },
  {
   "cell_type": "code",
   "execution_count": 163,
   "id": "68686eeb",
   "metadata": {},
   "outputs": [
    {
     "data": {
      "text/plain": [
       "(7,)"
      ]
     },
     "execution_count": 163,
     "metadata": {},
     "output_type": "execute_result"
    }
   ],
   "source": [
    "input_shape = (X_train.shape[1],)\n",
    "input_shape"
   ]
  },
  {
   "cell_type": "code",
   "execution_count": 164,
   "id": "c0f7530c",
   "metadata": {},
   "outputs": [],
   "source": [
    "model = tf.keras.models.Sequential([\n",
    "    tf.keras.layers.BatchNormalization(input_shape=X_train.iloc[0].shape),\n",
    "    tf.keras.layers.Dense(64, activation='relu'),\n",
    "    tf.keras.layers.Dense(32, activation='relu'),\n",
    "    tf.keras.layers.Dense(1)])"
   ]
  },
  {
   "cell_type": "code",
   "execution_count": 165,
   "id": "a19e37df",
   "metadata": {},
   "outputs": [],
   "source": [
    "model.compile(optimizer='adam', loss='mean_squared_error')"
   ]
  },
  {
   "cell_type": "code",
   "execution_count": 166,
   "id": "bf9758b2",
   "metadata": {},
   "outputs": [
    {
     "name": "stdout",
     "output_type": "stream",
     "text": [
      "Model: \"sequential_8\"\n",
      "_________________________________________________________________\n",
      " Layer (type)                Output Shape              Param #   \n",
      "=================================================================\n",
      " batch_normalization_8 (Batc  (None, 7)                28        \n",
      " hNormalization)                                                 \n",
      "                                                                 \n",
      " dense_31 (Dense)            (None, 64)                512       \n",
      "                                                                 \n",
      " dense_32 (Dense)            (None, 32)                2080      \n",
      "                                                                 \n",
      " dense_33 (Dense)            (None, 1)                 33        \n",
      "                                                                 \n",
      "=================================================================\n",
      "Total params: 2,653\n",
      "Trainable params: 2,639\n",
      "Non-trainable params: 14\n",
      "_________________________________________________________________\n"
     ]
    }
   ],
   "source": [
    "model.summary()"
   ]
  },
  {
   "cell_type": "code",
   "execution_count": 167,
   "id": "d31aa81a",
   "metadata": {},
   "outputs": [],
   "source": [
    "class PrintDot(tf.keras.callbacks.Callback):\n",
    "    def on_epoch_end(self, epoch, logs):\n",
    "        if epoch % 100 == 0: print('')\n",
    "        print('.', end='')"
   ]
  },
  {
   "cell_type": "code",
   "execution_count": 168,
   "id": "03b62403",
   "metadata": {},
   "outputs": [],
   "source": [
    "early_stop = tf.keras.callbacks.EarlyStopping(monitor='val_loss', patience=150)"
   ]
  },
  {
   "cell_type": "code",
   "execution_count": 169,
   "id": "6c5cf6cc",
   "metadata": {},
   "outputs": [
    {
     "name": "stdout",
     "output_type": "stream",
     "text": [
      "\n",
      "....................................................................................................\n",
      "....................................................................................................\n",
      "....................................................................................................\n",
      "....................................................................................................\n",
      "...................................................................................................."
     ]
    }
   ],
   "source": [
    "history = model.fit(X_train, y_train, \n",
    "                    epochs=500, verbose=0, \n",
    "                    validation_split=0.1,\n",
    "                    callbacks=[early_stop, PrintDot()])"
   ]
  },
  {
   "cell_type": "code",
   "execution_count": 170,
   "id": "36fe59fb",
   "metadata": {},
   "outputs": [
    {
     "data": {
      "text/html": [
       "<div>\n",
       "<style scoped>\n",
       "    .dataframe tbody tr th:only-of-type {\n",
       "        vertical-align: middle;\n",
       "    }\n",
       "\n",
       "    .dataframe tbody tr th {\n",
       "        vertical-align: top;\n",
       "    }\n",
       "\n",
       "    .dataframe thead th {\n",
       "        text-align: right;\n",
       "    }\n",
       "</style>\n",
       "<table border=\"1\" class=\"dataframe\">\n",
       "  <thead>\n",
       "    <tr style=\"text-align: right;\">\n",
       "      <th></th>\n",
       "      <th>loss</th>\n",
       "      <th>val_loss</th>\n",
       "    </tr>\n",
       "  </thead>\n",
       "  <tbody>\n",
       "    <tr>\n",
       "      <th>0</th>\n",
       "      <td>8160.368652</td>\n",
       "      <td>225150.343750</td>\n",
       "    </tr>\n",
       "    <tr>\n",
       "      <th>1</th>\n",
       "      <td>370.821014</td>\n",
       "      <td>7441.984863</td>\n",
       "    </tr>\n",
       "    <tr>\n",
       "      <th>2</th>\n",
       "      <td>271.509918</td>\n",
       "      <td>209.393158</td>\n",
       "    </tr>\n",
       "    <tr>\n",
       "      <th>3</th>\n",
       "      <td>271.832062</td>\n",
       "      <td>89.239357</td>\n",
       "    </tr>\n",
       "    <tr>\n",
       "      <th>4</th>\n",
       "      <td>244.152710</td>\n",
       "      <td>78.078674</td>\n",
       "    </tr>\n",
       "    <tr>\n",
       "      <th>...</th>\n",
       "      <td>...</td>\n",
       "      <td>...</td>\n",
       "    </tr>\n",
       "    <tr>\n",
       "      <th>495</th>\n",
       "      <td>131.595123</td>\n",
       "      <td>11.252931</td>\n",
       "    </tr>\n",
       "    <tr>\n",
       "      <th>496</th>\n",
       "      <td>154.144272</td>\n",
       "      <td>9.902607</td>\n",
       "    </tr>\n",
       "    <tr>\n",
       "      <th>497</th>\n",
       "      <td>162.604736</td>\n",
       "      <td>15.204217</td>\n",
       "    </tr>\n",
       "    <tr>\n",
       "      <th>498</th>\n",
       "      <td>143.498138</td>\n",
       "      <td>16.092117</td>\n",
       "    </tr>\n",
       "    <tr>\n",
       "      <th>499</th>\n",
       "      <td>125.255798</td>\n",
       "      <td>24.433640</td>\n",
       "    </tr>\n",
       "  </tbody>\n",
       "</table>\n",
       "<p>500 rows × 2 columns</p>\n",
       "</div>"
      ],
      "text/plain": [
       "            loss       val_loss\n",
       "0    8160.368652  225150.343750\n",
       "1     370.821014    7441.984863\n",
       "2     271.509918     209.393158\n",
       "3     271.832062      89.239357\n",
       "4     244.152710      78.078674\n",
       "..           ...            ...\n",
       "495   131.595123      11.252931\n",
       "496   154.144272       9.902607\n",
       "497   162.604736      15.204217\n",
       "498   143.498138      16.092117\n",
       "499   125.255798      24.433640\n",
       "\n",
       "[500 rows x 2 columns]"
      ]
     },
     "execution_count": 170,
     "metadata": {},
     "output_type": "execute_result"
    }
   ],
   "source": [
    "df_hist = pd.DataFrame(history.history)\n",
    "df_hist"
   ]
  },
  {
   "cell_type": "code",
   "execution_count": 171,
   "id": "6e58214e",
   "metadata": {},
   "outputs": [],
   "source": [
    "# df_hist.to_csv('df_hist.csv')"
   ]
  },
  {
   "cell_type": "code",
   "execution_count": 172,
   "id": "dfc67e49",
   "metadata": {},
   "outputs": [],
   "source": [
    "# 실행시 커널 죽을수도 있음..!\n",
    "# fig, axes = plt.subplots(nrows=1, ncols=2, figsize=(10, 3))\n",
    "# df_hist[[\"loss\", \"val_loss\"]].plot(ax=axes[0],ylim=(0,200))\n",
    "# df_hist[[\"mae\", \"val_mae\"]].plot(ax=axes[1],ylim=(0,10))"
   ]
  },
  {
   "cell_type": "code",
   "execution_count": 173,
   "id": "cd110df6",
   "metadata": {},
   "outputs": [
    {
     "name": "stdout",
     "output_type": "stream",
     "text": [
      "47/47 [==============================] - 0s 826us/step - loss: 23.9527\n"
     ]
    },
    {
     "data": {
      "text/plain": [
       "23.95271873474121"
      ]
     },
     "execution_count": 173,
     "metadata": {},
     "output_type": "execute_result"
    }
   ],
   "source": [
    "mse = model.evaluate(X_test, y_test)\n",
    "mse"
   ]
  },
  {
   "cell_type": "code",
   "execution_count": 174,
   "id": "610d1b04",
   "metadata": {},
   "outputs": [
    {
     "data": {
      "text/plain": [
       "4.894151482610772"
      ]
     },
     "execution_count": 174,
     "metadata": {},
     "output_type": "execute_result"
    }
   ],
   "source": [
    "rmse = mse ** 0.5\n",
    "rmse"
   ]
  },
  {
   "cell_type": "code",
   "execution_count": 175,
   "id": "10b68f94",
   "metadata": {},
   "outputs": [
    {
     "name": "stdout",
     "output_type": "stream",
     "text": [
      "235/235 [==============================] - 0s 585us/step\n"
     ]
    },
    {
     "data": {
      "text/plain": [
       "array([[178.0719  ],\n",
       "       [194.4879  ],\n",
       "       [ 55.67518 ],\n",
       "       ...,\n",
       "       [135.84685 ],\n",
       "       [ 31.775782],\n",
       "       [188.71622 ]], dtype=float32)"
      ]
     },
     "execution_count": 175,
     "metadata": {},
     "output_type": "execute_result"
    }
   ],
   "source": [
    "predictions = model.predict(test)\n",
    "predictions"
   ]
  },
  {
   "cell_type": "code",
   "execution_count": 176,
   "id": "9384c768",
   "metadata": {},
   "outputs": [
    {
     "data": {
      "text/plain": [
       "0       178.071899\n",
       "1       194.487900\n",
       "2        55.675179\n",
       "3       168.729340\n",
       "4       225.860687\n",
       "           ...    \n",
       "7495    197.994232\n",
       "7496     12.350112\n",
       "7497    135.846848\n",
       "7498     31.775782\n",
       "7499    188.716217\n",
       "Name: Calories_Burned, Length: 7500, dtype: float32"
      ]
     },
     "execution_count": 176,
     "metadata": {},
     "output_type": "execute_result"
    }
   ],
   "source": [
    "submission['Calories_Burned'] = predictions\n",
    "submission['Calories_Burned']"
   ]
  },
  {
   "cell_type": "code",
   "execution_count": 177,
   "id": "10703f38",
   "metadata": {},
   "outputs": [],
   "source": [
    "submission.to_csv(f'dl_tf_{rmse}.csv', index = False)"
   ]
  },
  {
   "cell_type": "code",
   "execution_count": null,
   "id": "1a31388b",
   "metadata": {},
   "outputs": [],
   "source": []
  },
  {
   "cell_type": "code",
   "execution_count": null,
   "id": "3839862e",
   "metadata": {},
   "outputs": [],
   "source": []
  },
  {
   "cell_type": "code",
   "execution_count": null,
   "id": "ad88cab8",
   "metadata": {},
   "outputs": [],
   "source": []
  }
 ],
 "metadata": {
  "kernelspec": {
   "display_name": "Python 3 (ipykernel)",
   "language": "python",
   "name": "python3"
  },
  "language_info": {
   "codemirror_mode": {
    "name": "ipython",
    "version": 3
   },
   "file_extension": ".py",
   "mimetype": "text/x-python",
   "name": "python",
   "nbconvert_exporter": "python",
   "pygments_lexer": "ipython3",
   "version": "3.9.13"
  },
  "toc": {
   "base_numbering": 1,
   "nav_menu": {},
   "number_sections": true,
   "sideBar": true,
   "skip_h1_title": false,
   "title_cell": "Table of Contents",
   "title_sidebar": "Contents",
   "toc_cell": false,
   "toc_position": {},
   "toc_section_display": true,
   "toc_window_display": false
  }
 },
 "nbformat": 4,
 "nbformat_minor": 5
}
