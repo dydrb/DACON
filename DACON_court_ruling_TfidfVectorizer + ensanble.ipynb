{
 "cells": [
  {
   "cell_type": "code",
   "execution_count": 10,
   "id": "7aebeef3",
   "metadata": {},
   "outputs": [],
   "source": [
    "import pandas as pd\n",
    "import numpy as np\n",
    "from sklearn.feature_extraction.text import TfidfVectorizer\n",
    "from sklearn.linear_model import LogisticRegression\n",
    "\n",
    "from sklearn.ensemble import VotingClassifier\n",
    "from sklearn.neighbors import KNeighborsClassifier\n",
    "\n",
    "from sklearn.metrics import accuracy_score\n",
    "\n",
    "import warnings\n",
    "warnings.filterwarnings('ignore')"
   ]
  },
  {
   "cell_type": "code",
   "execution_count": 31,
   "id": "900021b8",
   "metadata": {},
   "outputs": [],
   "source": [
    "from colorama import Style, Fore\n",
    "blk = Style.BRIGHT + Fore.BLACK\n",
    "red = Style.BRIGHT + Fore.RED\n",
    "blu = Style.BRIGHT + Fore.BLUE\n",
    "res = Style.RESET_ALL"
   ]
  },
  {
   "cell_type": "code",
   "execution_count": 126,
   "id": "dc13fc3c-c1b1-4b77-9ea2-8742c3633345",
   "metadata": {},
   "outputs": [],
   "source": [
    "train = pd.read_csv('train.csv')\n",
    "test = pd.read_csv('test.csv')"
   ]
  },
  {
   "attachments": {},
   "cell_type": "markdown",
   "id": "fa1440cf-2e5e-4644-b9e2-0be81c46610b",
   "metadata": {},
   "source": [
    "## Data Preprocessing"
   ]
  },
  {
   "cell_type": "code",
   "execution_count": 127,
   "id": "8a440bd5-19ee-4c3c-b21e-5c0eb24bb826",
   "metadata": {},
   "outputs": [],
   "source": [
    "vectorizer = TfidfVectorizer()\n",
    "def get_vector(vectorizer, df, train_mode):\n",
    "    if train_mode:\n",
    "        X_facts = vectorizer.fit_transform(df['facts'])\n",
    "    else:\n",
    "        X_facts = vectorizer.transform(df['facts'])\n",
    "    X_party1 = vectorizer.transform(df['first_party'])\n",
    "    X_party2 = vectorizer.transform(df['second_party'])\n",
    "    \n",
    "    X = np.concatenate([X_party1.todense(), X_party2.todense(), X_facts.todense()], axis=1)\n",
    "    return X"
   ]
  },
  {
   "cell_type": "code",
   "execution_count": 128,
   "id": "a20a2a15",
   "metadata": {},
   "outputs": [],
   "source": [
    "X = train[['first_party', 'second_party', 'facts']]\n",
    "y = train['first_party_winner']"
   ]
  },
  {
   "cell_type": "code",
   "execution_count": 129,
   "id": "9ca89d05",
   "metadata": {},
   "outputs": [],
   "source": [
    "X = get_vector(vectorizer, X, True)"
   ]
  },
  {
   "cell_type": "code",
   "execution_count": 130,
   "id": "399f6adb",
   "metadata": {},
   "outputs": [
    {
     "data": {
      "text/plain": [
       "(2478, 52377)"
      ]
     },
     "execution_count": 130,
     "metadata": {},
     "output_type": "execute_result"
    }
   ],
   "source": [
    "X.shape"
   ]
  },
  {
   "cell_type": "code",
   "execution_count": 131,
   "id": "5ff04c16",
   "metadata": {},
   "outputs": [
    {
     "name": "stdout",
     "output_type": "stream",
     "text": [
      "(1982, 52377) (1982,) (496, 52377) (496,)\n"
     ]
    }
   ],
   "source": [
    "from sklearn.model_selection import train_test_split\n",
    "\n",
    "X_train, X_test, y_train, y_test = train_test_split(X, y, test_size=0.2, random_state=42,)\n",
    "\n",
    "print(X_train.shape, y_train.shape, X_test.shape, y_test.shape)"
   ]
  },
  {
   "cell_type": "code",
   "execution_count": 132,
   "id": "c5e61d35",
   "metadata": {},
   "outputs": [
    {
     "data": {
      "text/plain": [
       "matrix([[0., 0., 0., ..., 0., 0., 0.],\n",
       "        [0., 0., 0., ..., 0., 0., 0.],\n",
       "        [0., 0., 0., ..., 0., 0., 0.],\n",
       "        ...,\n",
       "        [0., 0., 0., ..., 0., 0., 0.],\n",
       "        [0., 0., 0., ..., 0., 0., 0.],\n",
       "        [0., 0., 0., ..., 0., 0., 0.]])"
      ]
     },
     "execution_count": 132,
     "metadata": {},
     "output_type": "execute_result"
    }
   ],
   "source": [
    "test = test[['first_party', 'second_party', 'facts']]\n",
    "test = get_vector(vectorizer, test, False)\n",
    "test"
   ]
  },
  {
   "cell_type": "code",
   "execution_count": 133,
   "id": "2213a3ee",
   "metadata": {},
   "outputs": [
    {
     "data": {
      "text/plain": [
       "(1240, 52377)"
      ]
     },
     "execution_count": 133,
     "metadata": {},
     "output_type": "execute_result"
    }
   ],
   "source": [
    "test.shape"
   ]
  },
  {
   "cell_type": "code",
   "execution_count": 134,
   "id": "7937273e",
   "metadata": {},
   "outputs": [
    {
     "data": {
      "text/plain": [
       "RandomForestClassifier()"
      ]
     },
     "execution_count": 134,
     "metadata": {},
     "output_type": "execute_result"
    }
   ],
   "source": [
    "model = RandomForestClassifier()\n",
    "model.fit(X,y)"
   ]
  },
  {
   "cell_type": "code",
   "execution_count": 135,
   "id": "89fe2fa8",
   "metadata": {},
   "outputs": [
    {
     "data": {
      "text/plain": [
       "array([1, 1, 1, ..., 1, 1, 1], dtype=int64)"
      ]
     },
     "execution_count": 135,
     "metadata": {},
     "output_type": "execute_result"
    }
   ],
   "source": [
    "model.predict(test)"
   ]
  },
  {
   "attachments": {},
   "cell_type": "markdown",
   "id": "7e8b3119-8c8b-47e9-a73b-80513b6d07f0",
   "metadata": {},
   "source": [
    "## Define Model & Train"
   ]
  },
  {
   "attachments": {},
   "cell_type": "markdown",
   "id": "52232f24",
   "metadata": {},
   "source": [
    "## Voting 분류 모델"
   ]
  },
  {
   "cell_type": "code",
   "execution_count": 16,
   "id": "c07c0ed4",
   "metadata": {},
   "outputs": [
    {
     "name": "stdout",
     "output_type": "stream",
     "text": [
      "보팅 분류기 정확도: 0.6573\n",
      "LogisticRegression 정확도: 0.6532\n",
      "KNeighborsClassifier 정확도: 0.6230\n"
     ]
    }
   ],
   "source": [
    "lr_model = LogisticRegression()\n",
    "knn_model = KNeighborsClassifier(n_neighbors=8)\n",
    "\n",
    "vo_clf = VotingClassifier(estimators=[('LR', lr_model), ('KNN', knn_model)], voting='soft')\n",
    "\n",
    "vo_clf.fit(X_train, y_train)\n",
    "pred = vo_clf.predict(X_test)\n",
    "print(f'보팅 분류기 정확도: {np.round(accuracy_score(y_test, pred), 4)}')\n",
    "\n",
    "classifiers = [lr_model, knn_model]\n",
    "for classifier in classifiers:\n",
    "    classifier.fit(X_train, y_train)\n",
    "    pred = classifier.predict(X_test)\n",
    "    class_name = classifier.__class__.__name__\n",
    "    print('{0} 정확도: {1:.4f}'.format(class_name, accuracy_score(y_test, pred)))"
   ]
  },
  {
   "attachments": {},
   "cell_type": "markdown",
   "id": "d2609c54",
   "metadata": {},
   "source": [
    "## 그 외 다른 모델 사용"
   ]
  },
  {
   "cell_type": "code",
   "execution_count": 17,
   "id": "090c7a8d",
   "metadata": {},
   "outputs": [
    {
     "name": "stdout",
     "output_type": "stream",
     "text": [
      "랜덤 포레스트 정확도: 0.6492\n"
     ]
    }
   ],
   "source": [
    "from sklearn.ensemble import RandomForestClassifier\n",
    "\n",
    "rf_clf = RandomForestClassifier(random_state=42)\n",
    "rf_clf.fit(X_train, y_train)\n",
    "pred = rf_clf.predict(X_test)\n",
    "accuracy = accuracy_score(y_test, pred)\n",
    "print(f'랜덤 포레스트 정확도: {np.round(accuracy, 4)}')"
   ]
  },
  {
   "cell_type": "code",
   "execution_count": 18,
   "id": "10661141",
   "metadata": {},
   "outputs": [
    {
     "name": "stdout",
     "output_type": "stream",
     "text": [
      "BaggingClassifier  :  0.6612903225806451\n"
     ]
    }
   ],
   "source": [
    "from sklearn.ensemble import BaggingClassifier\n",
    "from sklearn.tree import DecisionTreeClassifier\n",
    "\n",
    "# 모델 구축\n",
    "# BaggingClassifier에서 사용한 분류기가 클래스 확률추정(predict_proba)이 가능하면 자동으로 간접 투표 사용 \n",
    "bag_model = BaggingClassifier(\n",
    "    DecisionTreeClassifier(), # 약한 학습기(결정 트리)\n",
    "    n_estimators=500, # 약한 학습기(결정 트리) 500개 생성\n",
    "    max_samples=0.05, # 0.0~1.0 사이 실수 선택(실수 x 샘플 수) 혹은 샘플수 지정\n",
    "    bootstrap=True, # True : 배깅, False : 페이스팅\n",
    "    n_jobs=-1 # 훈련과 예측에 사용할 CPU 코어 수 (-1 : 가용한 모든 코어 사용)\n",
    ")\n",
    "\n",
    "# 모델 학습\n",
    "bag_model.fit(X_train,y_train)\n",
    "\n",
    "# 모델 예측\n",
    "y_pred = bag_model.predict(X_test)\n",
    "\n",
    "# 모델 평가\n",
    "print(bag_model.__class__.__name__,\" : \",accuracy_score(y_test,y_pred))"
   ]
  },
  {
   "attachments": {},
   "cell_type": "markdown",
   "id": "9a1b62ea",
   "metadata": {},
   "source": [
    "## 앙상블 기법 사용해보기"
   ]
  },
  {
   "cell_type": "code",
   "execution_count": 19,
   "id": "841c7574",
   "metadata": {},
   "outputs": [],
   "source": [
    "from sklearn.preprocessing import MinMaxScaler\n",
    "from sklearn.pipeline import Pipeline\n",
    "from sklearn.model_selection import GridSearchCV,train_test_split,KFold\n",
    "from sklearn.metrics import accuracy_score\n",
    "from sklearn.linear_model import LogisticRegression\n",
    "from sklearn.svm import SVC\n",
    "from sklearn.neighbors import KNeighborsClassifier\n",
    "from sklearn.neural_network import MLPClassifier\n",
    "from sklearn.ensemble import RandomForestClassifier,ExtraTreesClassifier\n",
    "from catboost import CatBoostClassifier\n",
    "from lightgbm import LGBMClassifier\n",
    "from xgboost import XGBClassifier\n",
    "from sklearn.ensemble import VotingClassifier\n",
    "\n",
    "from mlxtend.classifier import StackingClassifier"
   ]
  },
  {
   "cell_type": "code",
   "execution_count": 20,
   "id": "c3a6efbe",
   "metadata": {},
   "outputs": [],
   "source": [
    "cv = KFold(n_splits = 5 ,shuffle = True, random_state = 42)\n",
    "\n",
    "# Logistic Regression\n",
    "pipe_logist = Pipeline([\n",
    "    ('MinMaxScale', MinMaxScaler()),\n",
    "    ('Logistic', LogisticRegression())\n",
    "])\n",
    "\n",
    "param_grid_logist = {\n",
    "    'Logistic__C': [0.1, 1, 10],\n",
    "    'Logistic__penalty': ['l1', 'l2']\n",
    "}\n",
    "\n",
    "grid_logist = GridSearchCV(pipe_logist, param_grid=param_grid_logist, cv = cv)\n",
    "\n",
    "# SVC\n",
    "# pipe_svc = Pipeline([\n",
    "#     ('MinMaxScale', MinMaxScaler()),\n",
    "#     ('SVC', SVC(probability = True))\n",
    "# ])\n",
    "\n",
    "# param_grid_svc = {\n",
    "#     'SVC__C': [0.1, 1, 10],\n",
    "#     'SVC__kernel': ['linear', 'rbf']\n",
    "# }\n",
    "\n",
    "# grid_svc = GridSearchCV(pipe_svc, param_grid=param_grid_svc, cv = cv)\n",
    "\n",
    "# KNN\n",
    "pipe_knn = Pipeline([\n",
    "    ('MinMaxScale', MinMaxScaler()),\n",
    "    ('KNN', KNeighborsClassifier())\n",
    "])\n",
    "\n",
    "param_grid_knn = {\n",
    "    'KNN__n_neighbors': [3, 5, 7],\n",
    "    'KNN__weights': ['uniform', 'distance']\n",
    "}\n",
    "\n",
    "grid_knn = GridSearchCV(pipe_knn, param_grid=param_grid_knn, cv = cv)\n",
    "\n",
    "# MLP\n",
    "# pipe_mlp = Pipeline([\n",
    "#     ('MinMaxScale', MinMaxScaler()),\n",
    "#     ('MLP', MLPClassifier())\n",
    "# ])\n",
    "\n",
    "# param_grid_mlp = {\n",
    "#     'MLP__hidden_layer_sizes': [(50,), (100,), (50, 50)],\n",
    "#     'MLP__activation': ['relu', 'tanh'],\n",
    "#     'MLP__alpha': [0.001, 0.01, 0.1]\n",
    "# }\n",
    "\n",
    "# grid_mlp = GridSearchCV(pipe_mlp, param_grid=param_grid_mlp, cv = cv)\n",
    "\n",
    "# Random Forest\n",
    "param_grid_rf = {\n",
    "    'RandomForest__n_estimators': [100, 200, 300],\n",
    "    'RandomForest__max_depth': [None, 5, 10]\n",
    "}\n",
    "\n",
    "pipe_rf = Pipeline([\n",
    "    ('RandomForest', RandomForestClassifier())\n",
    "])\n",
    "\n",
    "grid_rf = GridSearchCV(pipe_rf, param_grid_rf, cv = cv)\n",
    "\n",
    "# Extra Tree\n",
    "param_grid_et = {\n",
    "    'ExtraTrees__n_estimators': [100, 200, 300],\n",
    "    'ExtraTrees__max_depth': [None, 5, 10]\n",
    "}\n",
    "\n",
    "\n",
    "pipe_et = Pipeline([\n",
    "    ('ExtraTrees', ExtraTreesClassifier())\n",
    "])\n",
    "\n",
    "grid_et = GridSearchCV(pipe_et, param_grid_et, cv = cv)\n",
    "\n",
    "# Catboost\n",
    "# param_grid_cb = {\n",
    "#     'CatBoost__iterations': [100, 200, 300],\n",
    "#     'CatBoost__depth': [6, 8, 10]\n",
    "# }\n",
    "\n",
    "# pipe_cb = Pipeline([\n",
    "#     ('CatBoost', CatBoostClassifier(verbose = 0))\n",
    "# ])\n",
    "\n",
    "# grid_cb = GridSearchCV(pipe_cb, param_grid_cb, cv = cv)\n",
    "\n",
    "\n",
    "# LGBM\n",
    "param_grid_lgbm = {\n",
    "    'LGBM__n_estimators': [100, 200, 300],\n",
    "    'LGBM__max_depth': [None, 5, 10]\n",
    "}\n",
    "\n",
    "pipe_lgbm = Pipeline([\n",
    "    ('LGBM', LGBMClassifier(verbosity = -1))\n",
    "])\n",
    "\n",
    "grid_lgbm = GridSearchCV(pipe_lgbm, param_grid_lgbm, cv = cv)\n",
    "\n",
    "# XGBoost\n",
    "# param_grid_xgb = {\n",
    "#     'XGB__n_estimators': [100, 200, 300],\n",
    "#     'XGB__max_depth': [None, 5, 10]\n",
    "# }\n",
    "\n",
    "# pipe_xgb = Pipeline([\n",
    "#     ('XGB', XGBClassifier())\n",
    "# ])\n",
    "\n",
    "# grid_xgb = GridSearchCV(pipe_xgb, param_grid_xgb, cv = cv)"
   ]
  },
  {
   "cell_type": "code",
   "execution_count": 21,
   "id": "a0c9db1d",
   "metadata": {},
   "outputs": [
    {
     "data": {
      "text/plain": [
       "GridSearchCV(cv=KFold(n_splits=5, random_state=42, shuffle=True),\n",
       "             estimator=Pipeline(steps=[('MinMaxScale', MinMaxScaler()),\n",
       "                                       ('Logistic', LogisticRegression())]),\n",
       "             param_grid={'Logistic__C': [0.1, 1, 10],\n",
       "                         'Logistic__penalty': ['l1', 'l2']})"
      ]
     },
     "execution_count": 21,
     "metadata": {},
     "output_type": "execute_result"
    }
   ],
   "source": [
    "grid_logist.fit(X_train, y_train)"
   ]
  },
  {
   "cell_type": "code",
   "execution_count": 22,
   "id": "c6c8ddbc",
   "metadata": {},
   "outputs": [],
   "source": [
    "# grid_svc.fit(X_train, y_train)"
   ]
  },
  {
   "cell_type": "code",
   "execution_count": 23,
   "id": "c683e634",
   "metadata": {},
   "outputs": [
    {
     "data": {
      "text/plain": [
       "GridSearchCV(cv=KFold(n_splits=5, random_state=42, shuffle=True),\n",
       "             estimator=Pipeline(steps=[('MinMaxScale', MinMaxScaler()),\n",
       "                                       ('KNN', KNeighborsClassifier())]),\n",
       "             param_grid={'KNN__n_neighbors': [3, 5, 7],\n",
       "                         'KNN__weights': ['uniform', 'distance']})"
      ]
     },
     "execution_count": 23,
     "metadata": {},
     "output_type": "execute_result"
    }
   ],
   "source": [
    "grid_knn.fit(X_train, y_train)"
   ]
  },
  {
   "cell_type": "code",
   "execution_count": 24,
   "id": "33f34744",
   "metadata": {},
   "outputs": [],
   "source": [
    "# grid_mlp.fit(X_train, y_train)"
   ]
  },
  {
   "cell_type": "code",
   "execution_count": 25,
   "id": "2ec0f5b7",
   "metadata": {},
   "outputs": [
    {
     "data": {
      "text/plain": [
       "GridSearchCV(cv=KFold(n_splits=5, random_state=42, shuffle=True),\n",
       "             estimator=Pipeline(steps=[('RandomForest',\n",
       "                                        RandomForestClassifier())]),\n",
       "             param_grid={'RandomForest__max_depth': [None, 5, 10],\n",
       "                         'RandomForest__n_estimators': [100, 200, 300]})"
      ]
     },
     "execution_count": 25,
     "metadata": {},
     "output_type": "execute_result"
    }
   ],
   "source": [
    "grid_rf.fit(X_train, y_train)"
   ]
  },
  {
   "cell_type": "code",
   "execution_count": 26,
   "id": "18de1cb5",
   "metadata": {},
   "outputs": [
    {
     "data": {
      "text/plain": [
       "GridSearchCV(cv=KFold(n_splits=5, random_state=42, shuffle=True),\n",
       "             estimator=Pipeline(steps=[('ExtraTrees', ExtraTreesClassifier())]),\n",
       "             param_grid={'ExtraTrees__max_depth': [None, 5, 10],\n",
       "                         'ExtraTrees__n_estimators': [100, 200, 300]})"
      ]
     },
     "execution_count": 26,
     "metadata": {},
     "output_type": "execute_result"
    }
   ],
   "source": [
    "grid_et.fit(X_train, y_train)"
   ]
  },
  {
   "cell_type": "code",
   "execution_count": 27,
   "id": "4eab0a7a",
   "metadata": {},
   "outputs": [],
   "source": [
    "# grid_cb.fit(X_train, y_train)\n"
   ]
  },
  {
   "cell_type": "code",
   "execution_count": 28,
   "id": "546fb0a7",
   "metadata": {},
   "outputs": [
    {
     "data": {
      "text/plain": [
       "GridSearchCV(cv=KFold(n_splits=5, random_state=42, shuffle=True),\n",
       "             estimator=Pipeline(steps=[('LGBM', LGBMClassifier(verbosity=-1))]),\n",
       "             param_grid={'LGBM__max_depth': [None, 5, 10],\n",
       "                         'LGBM__n_estimators': [100, 200, 300]})"
      ]
     },
     "execution_count": 28,
     "metadata": {},
     "output_type": "execute_result"
    }
   ],
   "source": [
    "grid_lgbm.fit(X_train, y_train)\n"
   ]
  },
  {
   "cell_type": "code",
   "execution_count": 29,
   "id": "4f235ceb",
   "metadata": {},
   "outputs": [],
   "source": [
    "# grid_xgb.fit(X_train, y_train)"
   ]
  },
  {
   "cell_type": "code",
   "execution_count": 32,
   "id": "e189c933",
   "metadata": {},
   "outputs": [
    {
     "name": "stdout",
     "output_type": "stream",
     "text": [
      "5 FOLD BEST SCORE\n",
      "\u001b[1m\u001b[30m--\u001b[1m\u001b[30m--\u001b[1m\u001b[30m--\u001b[1m\u001b[30m--\u001b[1m\u001b[30m--\u001b[1m\u001b[30m--\u001b[1m\u001b[30m--\u001b[1m\u001b[30m--\u001b[1m\u001b[30m--\u001b[1m\u001b[30m--\u001b[1m\u001b[30m--\u001b[1m\u001b[30m--\u001b[1m\u001b[30m--\u001b[1m\u001b[30m--\u001b[1m\u001b[30m--\n",
      "\u001b[1m\u001b[34mgrid_logist best score\u001b[0m : \u001b[1m\u001b[31m0.667\u001b[0m\n",
      "\u001b[1m\u001b[34mgrid_knn best score\u001b[0m : \u001b[1m\u001b[31m0.667\u001b[0m\n",
      "\u001b[1m\u001b[34mgrid_rf best score\u001b[0m : \u001b[1m\u001b[31m0.668\u001b[0m\n",
      "\u001b[1m\u001b[34mgrid_et best score\u001b[0m : \u001b[1m\u001b[31m0.667\u001b[0m\n",
      "\u001b[1m\u001b[34mgrid_lgbm best score\u001b[0m : \u001b[1m\u001b[31m0.638\u001b[0m\n",
      "\u001b[1m\u001b[30m--\u001b[1m\u001b[30m--\u001b[1m\u001b[30m--\u001b[1m\u001b[30m--\u001b[1m\u001b[30m--\u001b[1m\u001b[30m--\u001b[1m\u001b[30m--\u001b[1m\u001b[30m--\u001b[1m\u001b[30m--\u001b[1m\u001b[30m--\u001b[1m\u001b[30m--\u001b[1m\u001b[30m--\u001b[1m\u001b[30m--\u001b[1m\u001b[30m--\u001b[1m\u001b[30m--\n"
     ]
    }
   ],
   "source": [
    "grid_models = [grid_logist,grid_knn,\n",
    "              grid_rf,grid_et,grid_lgbm]\n",
    "\n",
    "model_names = ['grid_logist','grid_knn',\n",
    "              'grid_rf','grid_et','grid_lgbm']\n",
    "\n",
    "print('5 FOLD BEST SCORE')\n",
    "print(f'{blk}--'* 15)\n",
    "\n",
    "best_models = []\n",
    "\n",
    "for i,model in enumerate(grid_models):\n",
    "    \n",
    "    score = round(model.best_score_,3)    \n",
    "    print(f'{blu}{model_names[i]} best score{res} : {red}{score}{res}')\n",
    "    best_models.append(model.best_estimator_)\n",
    "    \n",
    "print(f'{blk}--' * 15)"
   ]
  },
  {
   "cell_type": "code",
   "execution_count": 107,
   "id": "39c91318",
   "metadata": {},
   "outputs": [
    {
     "name": "stdout",
     "output_type": "stream",
     "text": [
      "{'C': 0.1, 'class_weight': None, 'dual': False, 'fit_intercept': True, 'intercept_scaling': 1, 'l1_ratio': None, 'max_iter': 100, 'multi_class': 'auto', 'n_jobs': None, 'penalty': 'l2', 'random_state': None, 'solver': 'lbfgs', 'tol': 0.0001, 'verbose': 0, 'warm_start': False}\n",
      "{'algorithm': 'auto', 'leaf_size': 30, 'metric': 'minkowski', 'metric_params': None, 'n_jobs': None, 'n_neighbors': 7, 'p': 2, 'weights': 'uniform'}\n",
      "{'bootstrap': True, 'ccp_alpha': 0.0, 'class_weight': None, 'criterion': 'gini', 'max_depth': None, 'max_features': 'auto', 'max_leaf_nodes': None, 'max_samples': None, 'min_impurity_decrease': 0.0, 'min_samples_leaf': 1, 'min_samples_split': 2, 'min_weight_fraction_leaf': 0.0, 'n_estimators': 300, 'n_jobs': None, 'oob_score': False, 'random_state': None, 'verbose': 0, 'warm_start': False}\n",
      "{'bootstrap': False, 'ccp_alpha': 0.0, 'class_weight': None, 'criterion': 'gini', 'max_depth': 5, 'max_features': 'auto', 'max_leaf_nodes': None, 'max_samples': None, 'min_impurity_decrease': 0.0, 'min_samples_leaf': 1, 'min_samples_split': 2, 'min_weight_fraction_leaf': 0.0, 'n_estimators': 100, 'n_jobs': None, 'oob_score': False, 'random_state': None, 'verbose': 0, 'warm_start': False}\n",
      "{'boosting_type': 'gbdt', 'class_weight': None, 'colsample_bytree': 1.0, 'importance_type': 'split', 'learning_rate': 0.1, 'max_depth': 5, 'min_child_samples': 20, 'min_child_weight': 0.001, 'min_split_gain': 0.0, 'n_estimators': 100, 'n_jobs': -1, 'num_leaves': 31, 'objective': None, 'random_state': None, 'reg_alpha': 0.0, 'reg_lambda': 0.0, 'silent': 'warn', 'subsample': 1.0, 'subsample_for_bin': 200000, 'subsample_freq': 0, 'verbosity': -1}\n"
     ]
    }
   ],
   "source": [
    "models = [LogisticRegression(), KNeighborsClassifier(), RandomForestClassifier(), ExtraTreesClassifier(), LGBMClassifier()]\n",
    "new_best_model = []\n",
    "\n",
    "for i in range(len(best_models)):\n",
    "    if i < 2:\n",
    "        grid_paramas = best_models[i][1].get_params()\n",
    "    else:\n",
    "        grid_paramas = best_models[i][0].get_params()\n",
    "        \n",
    "    model = models[i]\n",
    "    model.set_params(**grid_paramas)\n",
    "    new_best_model.append(model)\n",
    "    print(grid_paramas)"
   ]
  },
  {
   "cell_type": "code",
   "execution_count": 106,
   "id": "d001d745",
   "metadata": {},
   "outputs": [
    {
     "data": {
      "text/plain": [
       "[LogisticRegression(C=0.1),\n",
       " KNeighborsClassifier(n_neighbors=7),\n",
       " RandomForestClassifier(n_estimators=300),\n",
       " ExtraTreesClassifier(max_depth=5),\n",
       " LGBMClassifier(max_depth=5, verbosity=-1)]"
      ]
     },
     "execution_count": 106,
     "metadata": {},
     "output_type": "execute_result"
    }
   ],
   "source": [
    "new_best_model"
   ]
  },
  {
   "cell_type": "code",
   "execution_count": 33,
   "id": "f42bdbd8",
   "metadata": {},
   "outputs": [],
   "source": [
    "ensemble_soft = VotingClassifier(\n",
    "    estimators = [\n",
    "        ('Logist',best_models[0]),\n",
    "        ('KNN',best_models[1]),\n",
    "        ('RF', best_models[2]),\n",
    "        ('ET', best_models[3]),\n",
    "        ('LGBM', best_models[4])\n",
    "    ],\n",
    "    voting = 'soft'\n",
    ")\n",
    "\n",
    "ensemble_hard = VotingClassifier(\n",
    "    estimators = [\n",
    "        ('Logist',best_models[0]),\n",
    "        ('KNN',best_models[1]),\n",
    "        ('RF', best_models[2]),\n",
    "        ('ET', best_models[3]),\n",
    "        ('LGBM', best_models[4])\n",
    "    ],\n",
    "    voting = 'hard'\n",
    ")"
   ]
  },
  {
   "cell_type": "code",
   "execution_count": 40,
   "id": "86c25001",
   "metadata": {},
   "outputs": [
    {
     "name": "stdout",
     "output_type": "stream",
     "text": [
      "----------------------------------------\n",
      "\u001b[1m\u001b[30mENSEMBLE_SOFT SCORE\u001b[0m\n",
      "\u001b[1m\u001b[34mTRAIN : 0.834 \u001b[0m, \u001b[1m\u001b[31mTEST : 0.661\u001b[0m\n",
      "----------------------------------------\n",
      "\u001b[1m\u001b[30mENSEMBLE_HARD SCORE\u001b[0m\n",
      "\u001b[1m\u001b[34mTRAIN : 0.848 \u001b[0m, \u001b[1m\u001b[31mTEST : 0.661\u001b[0m\n"
     ]
    }
   ],
   "source": [
    "ensembles = [ensemble_soft, ensemble_hard]\n",
    "names = ['ENSEMBLE_SOFT', 'ENSEMBLE_HARD']\n",
    "\n",
    "for i,model in enumerate(ensembles):\n",
    "    \n",
    "    model.fit(X_train,y_train)\n",
    "    \n",
    "    train_pred = model.predict(X_train)\n",
    "    test_pred = model.predict(X_test)\n",
    "    \n",
    "    train_score = round(accuracy_score(y_train,train_pred),3)\n",
    "    test_score = round(accuracy_score(y_test,test_pred),3)    \n",
    "    \n",
    "    print('--'*20)\n",
    "    print(f'{blk}{names[i]} SCORE{res}')\n",
    "    print(f'{blu}TRAIN : {train_score} {res}, {red}TEST : {test_score}{res}',sep = '|')"
   ]
  },
  {
   "attachments": {},
   "cell_type": "markdown",
   "id": "b24bc645",
   "metadata": {},
   "source": [
    "## Stacking"
   ]
  },
  {
   "cell_type": "code",
   "execution_count": 47,
   "id": "bf9fe80d",
   "metadata": {},
   "outputs": [
    {
     "data": {
      "text/plain": [
       "StackingClassifier(classifiers=[Pipeline(steps=[('MinMaxScale', MinMaxScaler()),\n",
       "                                                ('Logistic',\n",
       "                                                 LogisticRegression(C=0.1))]),\n",
       "                                Pipeline(steps=[('MinMaxScale', MinMaxScaler()),\n",
       "                                                ('KNN',\n",
       "                                                 KNeighborsClassifier(n_neighbors=7))]),\n",
       "                                Pipeline(steps=[('RandomForest',\n",
       "                                                 RandomForestClassifier(n_estimators=300))]),\n",
       "                                Pipeline(steps=[('ExtraTrees',\n",
       "                                                 ExtraTreesClassifier(max_depth=5))]),\n",
       "                                Pipeline(steps=[('LGBM',\n",
       "                                                 LGBMClassifier(max_depth=5,\n",
       "                                                                verbosity=-1))])],\n",
       "                   meta_classifier=Pipeline(steps=[('MinMaxScale',\n",
       "                                                    MinMaxScaler()),\n",
       "                                                   ('Logistic',\n",
       "                                                    LogisticRegression(C=0.1))]))"
      ]
     },
     "metadata": {},
     "output_type": "display_data"
    },
    {
     "data": {
      "text/plain": [
       "StackingClassifier(classifiers=[Pipeline(steps=[('MinMaxScale', MinMaxScaler()),\n",
       "                                                ('Logistic',\n",
       "                                                 LogisticRegression(C=0.1))]),\n",
       "                                Pipeline(steps=[('MinMaxScale', MinMaxScaler()),\n",
       "                                                ('KNN',\n",
       "                                                 KNeighborsClassifier(n_neighbors=7))]),\n",
       "                                Pipeline(steps=[('RandomForest',\n",
       "                                                 RandomForestClassifier(n_estimators=300))]),\n",
       "                                Pipeline(steps=[('ExtraTrees',\n",
       "                                                 ExtraTreesClassifier(max_depth=5))]),\n",
       "                                Pipeline(steps=[('LGBM',\n",
       "                                                 LGBMClassifier(max_depth=5,\n",
       "                                                                verbosity=-1))])],\n",
       "                   meta_classifier=Pipeline(steps=[('RandomForest',\n",
       "                                                    RandomForestClassifier(n_estimators=300))]))"
      ]
     },
     "metadata": {},
     "output_type": "display_data"
    },
    {
     "data": {
      "text/plain": [
       "StackingClassifier(classifiers=[Pipeline(steps=[('MinMaxScale', MinMaxScaler()),\n",
       "                                                ('Logistic',\n",
       "                                                 LogisticRegression(C=0.1))]),\n",
       "                                Pipeline(steps=[('MinMaxScale', MinMaxScaler()),\n",
       "                                                ('KNN',\n",
       "                                                 KNeighborsClassifier(n_neighbors=7))]),\n",
       "                                Pipeline(steps=[('RandomForest',\n",
       "                                                 RandomForestClassifier(n_estimators=300))]),\n",
       "                                Pipeline(steps=[('ExtraTrees',\n",
       "                                                 ExtraTreesClassifier(max_depth=5))]),\n",
       "                                Pipeline(steps=[('LGBM',\n",
       "                                                 LGBMClassifier(max_depth=5,\n",
       "                                                                verbosity=-1))])],\n",
       "                   meta_classifier=Pipeline(steps=[('LGBM',\n",
       "                                                    LGBMClassifier(max_depth=5,\n",
       "                                                                   verbosity=-1))]))"
      ]
     },
     "metadata": {},
     "output_type": "display_data"
    }
   ],
   "source": [
    "stacking_logist = StackingClassifier(classifiers = ensemble_hard.estimators_,\n",
    "                                     meta_classifier=best_models[0])\n",
    "\n",
    "stacking_rf = StackingClassifier(classifiers = ensemble_hard.estimators_,\n",
    "                                   meta_classifier = best_models[2])\n",
    "\n",
    "stacking_lgbm = StackingClassifier(classifiers = ensemble_hard.estimators_,\n",
    "                                   meta_classifier = best_models[4])\n",
    "\n",
    "display(stacking_logist)\n",
    "display(stacking_rf)\n",
    "display(stacking_lgbm)"
   ]
  },
  {
   "cell_type": "code",
   "execution_count": 48,
   "id": "bc257f23",
   "metadata": {},
   "outputs": [
    {
     "name": "stdout",
     "output_type": "stream",
     "text": [
      "----------------------------------------\n",
      "\u001b[1m\u001b[30mStacking Logist SCORE\n",
      "\u001b[1m\u001b[34mTRAIN : 1.0, \u001b[1m\u001b[31mTEST : 0.657\u001b[0m\n",
      "----------------------------------------\n",
      "\u001b[1m\u001b[30mStacking_RandomForest SCORE\n",
      "\u001b[1m\u001b[34mTRAIN : 1.0, \u001b[1m\u001b[31mTEST : 0.657\u001b[0m\n",
      "----------------------------------------\n",
      "\u001b[1m\u001b[30mStacking_LGBM SCORE\n",
      "\u001b[1m\u001b[34mTRAIN : 1.0, \u001b[1m\u001b[31mTEST : 0.655\u001b[0m\n"
     ]
    }
   ],
   "source": [
    "stacking_models = [stacking_logist, stacking_rf, stacking_lgbm]\n",
    "names = ['Stacking Logist', 'Stacking_RandomForest','Stacking_LGBM']\n",
    "\n",
    "for i,model in enumerate(stacking_models):\n",
    "    \n",
    "    model.fit(X_train,y_train)\n",
    "    \n",
    "    train_pred = model.predict(X_train)\n",
    "    test_pred = model.predict(X_test)\n",
    "    \n",
    "    train_score = round(accuracy_score(y_train,train_pred),3)\n",
    "    test_score = round(accuracy_score(y_test,test_pred),3)    \n",
    "    \n",
    "    print('--'*20)\n",
    "    print(f'{blk}{names[i]} SCORE')\n",
    "    print(f'{blu}TRAIN : {train_score}, {red}TEST : {test_score}{res}',sep = '|')"
   ]
  },
  {
   "attachments": {},
   "cell_type": "markdown",
   "id": "6a70d5aa",
   "metadata": {},
   "source": [
    "## 모델 다시 만들기"
   ]
  },
  {
   "cell_type": "code",
   "execution_count": null,
   "id": "85cf1ab0",
   "metadata": {},
   "outputs": [],
   "source": [
    "models = [LogisticRegression(), KNeighborsClassifier(), RandomForestClassifier(), ExtraTreesClassifier(), LGBMClassifier()]\n",
    "new_best_model = []\n",
    "\n",
    "for i in range(len(best_models)):\n",
    "    if i < 2:\n",
    "        grid_paramas = best_models[i][1].get_params()\n",
    "    else:\n",
    "        grid_paramas = best_models[i][0].get_params()\n",
    "        \n",
    "    model = models[i]\n",
    "    model.set_params(**grid_paramas)\n",
    "    new_best_model.append(model)"
   ]
  },
  {
   "cell_type": "code",
   "execution_count": null,
   "id": "bdb97eee",
   "metadata": {},
   "outputs": [],
   "source": [
    "log_params = {'C': 0.1, 'class_weight': None, 'dual': False, 'fit_intercept': True, 'intercept_scaling': 1, 'l1_ratio': None, 'max_iter': 100, 'multi_class': 'auto', 'n_jobs': None, 'penalty': 'l2', 'random_state': None, 'solver': 'lbfgs', 'tol': 0.0001, 'verbose': 0, 'warm_start': False}\n",
    "knn_params = {'algorithm': 'auto', 'leaf_size': 30, 'metric': 'minkowski', 'metric_params': None, 'n_jobs': None, 'n_neighbors': 7, 'p': 2, 'weights': 'uniform'}\n",
    "rf_params = {'bootstrap': True, 'ccp_alpha': 0.0, 'class_weight': None, 'criterion': 'gini', 'max_depth': None, 'max_features': 'auto', 'max_leaf_nodes': None, 'max_samples': None, 'min_impurity_decrease': 0.0, 'min_samples_leaf': 1, 'min_samples_split': 2, 'min_weight_fraction_leaf': 0.0, 'n_estimators': 300, 'n_jobs': None, 'oob_score': False, 'random_state': None, 'verbose': 0, 'warm_start': False}\n",
    "et_params = {'bootstrap': False, 'ccp_alpha': 0.0, 'class_weight': None, 'criterion': 'gini', 'max_depth': 5, 'max_features': 'auto', 'max_leaf_nodes': None, 'max_samples': None, 'min_impurity_decrease': 0.0, 'min_samples_leaf': 1, 'min_samples_split': 2, 'min_weight_fraction_leaf': 0.0, 'n_estimators': 100, 'n_jobs': None, 'oob_score': False, 'random_state': None, 'verbose': 0, 'warm_start': False}\n",
    "lgbm_parmas = {'boosting_type': 'gbdt', 'class_weight': None, 'colsample_bytree': 1.0, 'importance_type': 'split', 'learning_rate': 0.1, 'max_depth': 5, 'min_child_samples': 20, 'min_child_weight': 0.001, 'min_split_gain': 0.0, 'n_estimators': 100, 'n_jobs': -1, 'num_leaves': 31, 'objective': None, 'random_state': None, 'reg_alpha': 0.0, 'reg_lambda': 0.0, 'silent': 'warn', 'subsample': 1.0, 'subsample_for_bin': 200000, 'subsample_freq': 0, 'verbosity': -1}"
   ]
  },
  {
   "cell_type": "code",
   "execution_count": 112,
   "id": "ddf64119",
   "metadata": {},
   "outputs": [
    {
     "data": {
      "text/plain": [
       "(2478, 52377)"
      ]
     },
     "execution_count": 112,
     "metadata": {},
     "output_type": "execute_result"
    }
   ],
   "source": [
    "pd.DataFrame(X).shape"
   ]
  },
  {
   "cell_type": "code",
   "execution_count": 113,
   "id": "b1ef715d",
   "metadata": {},
   "outputs": [
    {
     "data": {
      "text/plain": [
       "(2478, 1)"
      ]
     },
     "execution_count": 113,
     "metadata": {},
     "output_type": "execute_result"
    }
   ],
   "source": [
    "pd.DataFrame(y).shape"
   ]
  },
  {
   "cell_type": "code",
   "execution_count": null,
   "id": "ad019d59",
   "metadata": {},
   "outputs": [],
   "source": []
  },
  {
   "cell_type": "code",
   "execution_count": null,
   "id": "d6e477ce",
   "metadata": {},
   "outputs": [],
   "source": []
  },
  {
   "attachments": {},
   "cell_type": "markdown",
   "id": "a4aa8041-458a-4404-8bb1-d0169d4dd64d",
   "metadata": {},
   "source": [
    "## Inference & Submission"
   ]
  },
  {
   "cell_type": "code",
   "execution_count": 38,
   "id": "3d774bbb-d9f1-473c-b7f3-b506e7299007",
   "metadata": {},
   "outputs": [],
   "source": [
    "submit = pd.read_csv('sample_submission.csv')"
   ]
  },
  {
   "cell_type": "code",
   "execution_count": 138,
   "id": "2c3cb13d",
   "metadata": {},
   "outputs": [],
   "source": [
    "pred = ensemble_hard.predict(test)\n",
    "\n",
    "submit['first_party_winner'] = pred\n",
    "submit.to_csv('ensemble_hard_submit.csv', index=False)"
   ]
  },
  {
   "cell_type": "code",
   "execution_count": 139,
   "id": "9a6d6901",
   "metadata": {},
   "outputs": [],
   "source": [
    "pred = stacking_rf.predict(test)\n",
    "\n",
    "submit['first_party_winner'] = pred\n",
    "submit.to_csv('stacking_rf.csv', index=False)"
   ]
  },
  {
   "cell_type": "code",
   "execution_count": null,
   "id": "1abd55c4",
   "metadata": {},
   "outputs": [
    {
     "name": "stdout",
     "output_type": "stream",
     "text": [
      "Done\n"
     ]
    }
   ],
   "source": [
    "submit['first_party_winner'] = pred\n",
    "submit.to_csv('./baseline_submit.csv', index=False)\n",
    "print('Done')"
   ]
  },
  {
   "cell_type": "code",
   "execution_count": null,
   "id": "7607f4ad",
   "metadata": {},
   "outputs": [
    {
     "data": {
      "text/html": [
       "<div>\n",
       "<style scoped>\n",
       "    .dataframe tbody tr th:only-of-type {\n",
       "        vertical-align: middle;\n",
       "    }\n",
       "\n",
       "    .dataframe tbody tr th {\n",
       "        vertical-align: top;\n",
       "    }\n",
       "\n",
       "    .dataframe thead th {\n",
       "        text-align: right;\n",
       "    }\n",
       "</style>\n",
       "<table border=\"1\" class=\"dataframe\">\n",
       "  <thead>\n",
       "    <tr style=\"text-align: right;\">\n",
       "      <th></th>\n",
       "      <th>ID</th>\n",
       "      <th>first_party_winner</th>\n",
       "    </tr>\n",
       "  </thead>\n",
       "  <tbody>\n",
       "    <tr>\n",
       "      <th>0</th>\n",
       "      <td>TEST_0000</td>\n",
       "      <td>1</td>\n",
       "    </tr>\n",
       "    <tr>\n",
       "      <th>1</th>\n",
       "      <td>TEST_0001</td>\n",
       "      <td>1</td>\n",
       "    </tr>\n",
       "    <tr>\n",
       "      <th>2</th>\n",
       "      <td>TEST_0002</td>\n",
       "      <td>1</td>\n",
       "    </tr>\n",
       "    <tr>\n",
       "      <th>3</th>\n",
       "      <td>TEST_0003</td>\n",
       "      <td>1</td>\n",
       "    </tr>\n",
       "    <tr>\n",
       "      <th>4</th>\n",
       "      <td>TEST_0004</td>\n",
       "      <td>1</td>\n",
       "    </tr>\n",
       "    <tr>\n",
       "      <th>...</th>\n",
       "      <td>...</td>\n",
       "      <td>...</td>\n",
       "    </tr>\n",
       "    <tr>\n",
       "      <th>1235</th>\n",
       "      <td>TEST_1235</td>\n",
       "      <td>0</td>\n",
       "    </tr>\n",
       "    <tr>\n",
       "      <th>1236</th>\n",
       "      <td>TEST_1236</td>\n",
       "      <td>1</td>\n",
       "    </tr>\n",
       "    <tr>\n",
       "      <th>1237</th>\n",
       "      <td>TEST_1237</td>\n",
       "      <td>1</td>\n",
       "    </tr>\n",
       "    <tr>\n",
       "      <th>1238</th>\n",
       "      <td>TEST_1238</td>\n",
       "      <td>1</td>\n",
       "    </tr>\n",
       "    <tr>\n",
       "      <th>1239</th>\n",
       "      <td>TEST_1239</td>\n",
       "      <td>1</td>\n",
       "    </tr>\n",
       "  </tbody>\n",
       "</table>\n",
       "<p>1240 rows × 2 columns</p>\n",
       "</div>"
      ],
      "text/plain": [
       "             ID  first_party_winner\n",
       "0     TEST_0000                   1\n",
       "1     TEST_0001                   1\n",
       "2     TEST_0002                   1\n",
       "3     TEST_0003                   1\n",
       "4     TEST_0004                   1\n",
       "...         ...                 ...\n",
       "1235  TEST_1235                   0\n",
       "1236  TEST_1236                   1\n",
       "1237  TEST_1237                   1\n",
       "1238  TEST_1238                   1\n",
       "1239  TEST_1239                   1\n",
       "\n",
       "[1240 rows x 2 columns]"
      ]
     },
     "execution_count": 11,
     "metadata": {},
     "output_type": "execute_result"
    }
   ],
   "source": [
    "submit"
   ]
  }
 ],
 "metadata": {
  "kernelspec": {
   "display_name": "PyTorch 1.14 (NGC 22.12/Python 3.8) on Backend.AI",
   "language": "python",
   "name": "python3"
  },
  "language_info": {
   "codemirror_mode": {
    "name": "ipython",
    "version": 3
   },
   "file_extension": ".py",
   "mimetype": "text/x-python",
   "name": "python",
   "nbconvert_exporter": "python",
   "pygments_lexer": "ipython3",
   "version": "3.9.13"
  }
 },
 "nbformat": 4,
 "nbformat_minor": 5
}
